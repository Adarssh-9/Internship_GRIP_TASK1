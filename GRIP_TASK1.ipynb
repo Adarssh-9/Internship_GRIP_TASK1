{
  "nbformat": 4,
  "nbformat_minor": 0,
  "metadata": {
    "colab": {
      "name": "GRIP_TASK1.ipynb",
      "provenance": []
    },
    "kernelspec": {
      "name": "python3",
      "display_name": "Python 3"
    },
    "language_info": {
      "name": "python"
    }
  },
  "cells": [
    {
      "cell_type": "markdown",
      "metadata": {
        "id": "oEZlA5xEiPGP"
      },
      "source": [
        "## **Prediction using Supervised ML**\n",
        "This is a part of GRIPS MAY2021 Internship Program\n",
        "\n",
        "Data set available on http://bit.ly/w-data\n",
        "### Basic Linear Regression to predict score if a student studies for 9.25 hrs/ day\n",
        "\n",
        "---\n",
        "# By *Adarssh P N* \n"
      ]
    },
    {
      "cell_type": "code",
      "metadata": {
        "id": "3Vh1IKuaiDem"
      },
      "source": [
        "#importing the required libraries\n",
        "\n",
        "import pandas as pd #used for CSV\n",
        "import numpy as np\n",
        "import matplotlib.pyplot as plt  \n",
        "%matplotlib inline"
      ],
      "execution_count": 1,
      "outputs": []
    },
    {
      "cell_type": "code",
      "metadata": {
        "colab": {
          "base_uri": "https://localhost:8080/"
        },
        "id": "XFm1MEsazS3t",
        "outputId": "ad1cb040-de03-4375-8637-9c85878f3d28"
      },
      "source": [
        "# Reading the data set from the url given\n",
        "url_link=\"http://bit.ly/w-data\"\n",
        "try:\n",
        "  org_data=pd.read_csv(url_link)\n",
        "except:\n",
        "  print(\"Error occurred\")\n",
        "print('Data fetch sucessful')\n"
      ],
      "execution_count": 3,
      "outputs": [
        {
          "output_type": "stream",
          "text": [
            "Data fetch sucessful\n"
          ],
          "name": "stdout"
        }
      ]
    },
    {
      "cell_type": "code",
      "metadata": {
        "colab": {
          "base_uri": "https://localhost:8080/",
          "height": 206
        },
        "id": "L2lq4fDS0YcN",
        "outputId": "9c715ffe-c96f-4760-eabc-92a26c8b8833"
      },
      "source": [
        "#displaying the data\n",
        "org_data.head()"
      ],
      "execution_count": 4,
      "outputs": [
        {
          "output_type": "execute_result",
          "data": {
            "text/html": [
              "<div>\n",
              "<style scoped>\n",
              "    .dataframe tbody tr th:only-of-type {\n",
              "        vertical-align: middle;\n",
              "    }\n",
              "\n",
              "    .dataframe tbody tr th {\n",
              "        vertical-align: top;\n",
              "    }\n",
              "\n",
              "    .dataframe thead th {\n",
              "        text-align: right;\n",
              "    }\n",
              "</style>\n",
              "<table border=\"1\" class=\"dataframe\">\n",
              "  <thead>\n",
              "    <tr style=\"text-align: right;\">\n",
              "      <th></th>\n",
              "      <th>Hours</th>\n",
              "      <th>Scores</th>\n",
              "    </tr>\n",
              "  </thead>\n",
              "  <tbody>\n",
              "    <tr>\n",
              "      <th>0</th>\n",
              "      <td>2.5</td>\n",
              "      <td>21</td>\n",
              "    </tr>\n",
              "    <tr>\n",
              "      <th>1</th>\n",
              "      <td>5.1</td>\n",
              "      <td>47</td>\n",
              "    </tr>\n",
              "    <tr>\n",
              "      <th>2</th>\n",
              "      <td>3.2</td>\n",
              "      <td>27</td>\n",
              "    </tr>\n",
              "    <tr>\n",
              "      <th>3</th>\n",
              "      <td>8.5</td>\n",
              "      <td>75</td>\n",
              "    </tr>\n",
              "    <tr>\n",
              "      <th>4</th>\n",
              "      <td>3.5</td>\n",
              "      <td>30</td>\n",
              "    </tr>\n",
              "  </tbody>\n",
              "</table>\n",
              "</div>"
            ],
            "text/plain": [
              "   Hours  Scores\n",
              "0    2.5      21\n",
              "1    5.1      47\n",
              "2    3.2      27\n",
              "3    8.5      75\n",
              "4    3.5      30"
            ]
          },
          "metadata": {
            "tags": []
          },
          "execution_count": 4
        }
      ]
    },
    {
      "cell_type": "markdown",
      "metadata": {
        "id": "cwpZ58740m8v"
      },
      "source": [
        "### To Plot the given data set as a scatted plot so that we get a brief understanding about the relation between hours and Scores\n"
      ]
    },
    {
      "cell_type": "code",
      "metadata": {
        "colab": {
          "base_uri": "https://localhost:8080/",
          "height": 295
        },
        "id": "mOETjImH1Pd6",
        "outputId": "7166e269-9080-445f-ace4-30a759ee969a"
      },
      "source": [
        "org_data.plot(x='Hours',y='Scores', style = 'ro')\n",
        "plt.title('Hours vs Percentage')  \n",
        "plt.xlabel('Hours Studied')  \n",
        "plt.ylabel('Percentage Score')  \n",
        "plt.show()"
      ],
      "execution_count": 7,
      "outputs": [
        {
          "output_type": "display_data",
          "data": {
            "image/png": "[encoded data removed]",
            "text/plain": [
              "<Figure size 432x288 with 1 Axes>"
            ]
          },
          "metadata": {
            "tags": [],
            "needs_background": "light"
          }
        }
      ]
    },
    {
      "cell_type": "markdown",
      "metadata": {
        "id": "NVBCc57S2SeM"
      },
      "source": [
        "**From the above graph we can see that the realationship between the hours studied and the marks are directly proportional.**"
      ]
    },
    {
      "cell_type": "markdown",
      "metadata": {
        "id": "xFjTpEgU4j09"
      },
      "source": [
        "## **Preparing the data**"
      ]
    },
    {
      "cell_type": "markdown",
      "metadata": {
        "id": "em6Lzb-m5Zh9"
      },
      "source": [
        "Converting the data into attributes and labels"
      ]
    },
    {
      "cell_type": "code",
      "metadata": {
        "colab": {
          "base_uri": "https://localhost:8080/"
        },
        "id": "AVYEZLG22RFp",
        "outputId": "5d7f9dc8-308c-4dc2-b7a1-c44ce378b75c"
      },
      "source": [
        "X = org_data.iloc[:,:-1].values #choosing all colums and last but one row\n",
        "Y = org_data.iloc[:,1].values #extracting the Y axis values\n",
        "print(X,Y)"
      ],
      "execution_count": 8,
      "outputs": [
        {
          "output_type": "stream",
          "text": [
            "[[2.5]\n",
            " [5.1]\n",
            " [3.2]\n",
            " [8.5]\n",
            " [3.5]\n",
            " [1.5]\n",
            " [9.2]\n",
            " [5.5]\n",
            " [8.3]\n",
            " [2.7]\n",
            " [7.7]\n",
            " [5.9]\n",
            " [4.5]\n",
            " [3.3]\n",
            " [1.1]\n",
            " [8.9]\n",
            " [2.5]\n",
            " [1.9]\n",
            " [6.1]\n",
            " [7.4]\n",
            " [2.7]\n",
            " [4.8]\n",
            " [3.8]\n",
            " [6.9]\n",
            " [7.8]] [21 47 27 75 30 20 88 60 81 25 85 62 41 42 17 95 30 24 67 69 30 54 35 76\n",
            " 86]\n"
          ],
          "name": "stdout"
        }
      ]
    },
    {
      "cell_type": "markdown",
      "metadata": {
        "id": "vt6yTWC5614M"
      },
      "source": [
        "Spliting the data into two- training and test data set using the *Scikit-Learn built-in method*"
      ]
    },
    {
      "cell_type": "code",
      "metadata": {
        "id": "26nXfgI47FV9"
      },
      "source": [
        "from sklearn.model_selection import train_test_split\n",
        "X_train,X_test,Y_train,Y_test = train_test_split(X,Y,test_size=0.3,random_state=0)\n"
      ],
      "execution_count": 17,
      "outputs": []
    },
    {
      "cell_type": "markdown",
      "metadata": {
        "id": "J_HGT-tG8Uct"
      },
      "source": [
        "## **Training**"
      ]
    },
    {
      "cell_type": "markdown",
      "metadata": {
        "id": "Sbw4f4H08ewk"
      },
      "source": [
        "Here we shall be using the Linear Regression algo to train"
      ]
    },
    {
      "cell_type": "code",
      "metadata": {
        "colab": {
          "base_uri": "https://localhost:8080/"
        },
        "id": "tKMXt8QZ8nCe",
        "outputId": "6b17728d-e3c6-40d6-f8c8-03fc1067d210"
      },
      "source": [
        "from sklearn.linear_model import LinearRegression\n",
        "reggr=LinearRegression()\n",
        "reggr.fit(X_train, Y_train)\n",
        "print('Traning successful')"
      ],
      "execution_count": 18,
      "outputs": [
        {
          "output_type": "stream",
          "text": [
            "Traning successful\n"
          ],
          "name": "stdout"
        }
      ]
    },
    {
      "cell_type": "code",
      "metadata": {
        "colab": {
          "base_uri": "https://localhost:8080/",
          "height": 265
        },
        "id": "GNMTClmz9ERL",
        "outputId": "cf58757a-0e69-4cd0-cd66-71029cff3938"
      },
      "source": [
        "reg_line = reggr.coef_*X+reggr.intercept_ #reading the regression line\n",
        "\n",
        "#plotting data by overlapping on the scattered data plot\n",
        "plt.scatter(X,Y)\n",
        "plt.plot(X,reg_line)\n",
        "plt.show()"
      ],
      "execution_count": 22,
      "outputs": [
        {
          "output_type": "display_data",
          "data": {
            "image/png": "[encoded data removed]",
            "text/plain": [
              "<Figure size 432x288 with 1 Axes>"
            ]
          },
          "metadata": {
            "tags": [],
            "needs_background": "light"
          }
        }
      ]
    },
    {
      "cell_type": "markdown",
      "metadata": {
        "id": "lE5C224y-Lf0"
      },
      "source": [
        "## **Predictions**\n",
        "After training the model, we now make the predictions\n",
        "\n"
      ]
    },
    {
      "cell_type": "code",
      "metadata": {
        "id": "BsQbO6n9-ibx"
      },
      "source": [
        "#here we set 30% of the actual data for testing purpose\n",
        "#print(X_test)\n",
        "Y_pred= reggr.predict(X_test)#predicting the scores by passing the hours studied\n"
      ],
      "execution_count": 39,
      "outputs": []
    },
    {
      "cell_type": "markdown",
      "metadata": {
        "id": "JPW2c1hhAz2J"
      },
      "source": [
        "Comparing the actual and predicted data"
      ]
    },
    {
      "cell_type": "code",
      "metadata": {
        "colab": {
          "base_uri": "https://localhost:8080/"
        },
        "id": "3fplAJU4A2uQ",
        "outputId": "5c462da5-a8fa-4528-a988-d3eeeee3e20f"
      },
      "source": [
        "prd_data = pd.DataFrame({'Acutal data' : Y_test, 'Predicted data': Y_pred})\n",
        "print(prd_data)"
      ],
      "execution_count": 31,
      "outputs": [
        {
          "output_type": "stream",
          "text": [
            "   Acutal data  Predicted data\n",
            "0           20       17.053665\n",
            "1           27       33.694229\n",
            "2           69       74.806209\n",
            "3           30       26.842232\n",
            "4           62       60.123359\n",
            "5           35       39.567369\n",
            "6           24       20.969092\n",
            "7           86       78.721636\n"
          ],
          "name": "stdout"
        }
      ]
    },
    {
      "cell_type": "markdown",
      "metadata": {
        "id": "l9YBS8vLByyx"
      },
      "source": [
        "**Testing the model with the data given**"
      ]
    },
    {
      "cell_type": "code",
      "metadata": {
        "colab": {
          "base_uri": "https://localhost:8080/"
        },
        "id": "DYHzy2bbByia",
        "outputId": "b0ae598d-e73f-4e16-e4cb-9fecb549d54e"
      },
      "source": [
        "#study hours per day\n",
        "hours = [[9.25]]\n",
        "q_pred = reggr.predict(hours)\n",
        "print('Study hours: {}'.format(hours[0][0]))\n",
        "print('Predicted Score: {}'.format(q_pred[0]))\n"
      ],
      "execution_count": 44,
      "outputs": [
        {
          "output_type": "stream",
          "text": [
            "Study hours: 9.25\n",
            "Predicted Score: 92.91505723477056\n"
          ],
          "name": "stdout"
        }
      ]
    },
    {
      "cell_type": "markdown",
      "metadata": {
        "id": "vCpMWAQ7FG-2"
      },
      "source": [
        "## **Model Evaluation**\n",
        "To find the performance of the model is crucial. There are various metrics to evaulate the model, here we have used the following\n",
        "\n",
        "1.   Mean Absolute Error(MAE)\n",
        "2.   Root Mean Square Error(RMSE)\n",
        "\n"
      ]
    },
    {
      "cell_type": "code",
      "metadata": {
        "colab": {
          "base_uri": "https://localhost:8080/"
        },
        "id": "JzeDq41fGS9-",
        "outputId": "3d7a0f5d-647e-48a5-a6ec-7627dceea36d"
      },
      "source": [
        "from sklearn import metrics  \n",
        "import math # to calculate RMS\n",
        "print('Mean Absolute Error:', metrics.mean_absolute_error(Y_test, Y_pred)) \n",
        "print('Root Mean Square Error:', math.sqrt(metrics.mean_squared_error(Y_test, Y_pred)))"
      ],
      "execution_count": 47,
      "outputs": [
        {
          "output_type": "stream",
          "text": [
            "Mean Absolute Error: 4.419727808027651\n",
            "Root Mean Square Error: 4.7921912746363144\n"
          ],
          "name": "stdout"
        }
      ]
    }
  ]
}